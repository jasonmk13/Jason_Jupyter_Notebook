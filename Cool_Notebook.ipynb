{
 "cells": [
  {
   "cell_type": "markdown",
   "id": "4bb279c6-8989-4b05-bffa-96aaba9893b2",
   "metadata": {},
   "source": [
    "# My Jupyter Notebook on IBM Watson Studio"
   ]
  },
  {
   "cell_type": "markdown",
   "id": "82d0d817-8b7f-4199-a27b-6a9cecaf25f9",
   "metadata": {},
   "source": [
    "__Jason Kim__\n",
    "\n",
    "Civil Engineering Student"
   ]
  },
  {
   "cell_type": "markdown",
   "id": "d9c42cae-b805-48e5-81f7-3c906ffd767f",
   "metadata": {},
   "source": [
    "_I am interested in data science because as an engineering student, I work with various types of data as well as computer programs in both classes and labs, therefore I would like to further my knowledge in data analysis and computer programming._"
   ]
  },
  {
   "cell_type": "markdown",
   "id": "c4eeea48-6bab-4796-9f4a-e368379aad00",
   "metadata": {},
   "source": [
    "### The following code will calculate and print the value of the price and its tax. ###"
   ]
  },
  {
   "cell_type": "code",
   "execution_count": 6,
   "id": "1cbd53c2-f0c7-4728-a9e8-25ab97031168",
   "metadata": {},
   "outputs": [
    {
     "name": "stdout",
     "output_type": "stream",
     "text": [
      "The total will be $1.575.\n"
     ]
    }
   ],
   "source": [
    "price = 1.5\n",
    "tax = price * 0.05\n",
    "print(\"The total will be ${}.\".format(price + tax))"
   ]
  },
  {
   "cell_type": "markdown",
   "id": "08649abf-c415-43e0-b5da-47b16dd417d2",
   "metadata": {},
   "source": [
    "---\n",
    "1. apple\n",
    "2. banana\n",
    "3. orange\n",
    "\n",
    "![Gort](gort.jfif)\n",
    "\n",
    "[Link to something interesting](https://www.youtube.com/watch?v=dQw4w9WgXcQ&ab_channel=RickAstley)\n"
   ]
  },
  {
   "cell_type": "code",
   "execution_count": null,
   "id": "51b7f318-90f9-4550-b007-5b2611c7fd21",
   "metadata": {},
   "outputs": [],
   "source": []
  }
 ],
 "metadata": {
  "kernelspec": {
   "display_name": "Python",
   "language": "python",
   "name": "conda-env-python-py"
  },
  "language_info": {
   "codemirror_mode": {
    "name": "ipython",
    "version": 3
   },
   "file_extension": ".py",
   "mimetype": "text/x-python",
   "name": "python",
   "nbconvert_exporter": "python",
   "pygments_lexer": "ipython3",
   "version": "3.7.12"
  }
 },
 "nbformat": 4,
 "nbformat_minor": 5
}
